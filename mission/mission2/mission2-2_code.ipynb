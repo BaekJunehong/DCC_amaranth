{
 "cells": [
  {
   "cell_type": "code",
   "execution_count": 14,
   "metadata": {},
   "outputs": [],
   "source": [
    "import os\n",
    "import json\n",
    "import csv\n",
    "import pandas as pd\n",
    "from collections import defaultdict, Counter\n",
    "\n",
    "# JSON 파일이 있는 디렉토리 경로\n",
    "train_directory = '../dataset/training_label'\n",
    "valid_directory = '../dataset/validation_label'\n",
    "train_image_directory = '../dataset/training_image'\n",
    "valid_image_directory = '../dataset/validation_image'\n",
    "\n",
    "# 결과를 저장할 딕셔너리\n",
    "train_result = defaultdict(lambda: {'선호': [], '비선호': []})\n",
    "valid_result = defaultdict(lambda: {'선호': [], '비선호': []})\n",
    "response_count = Counter()\n",
    "\n",
    "# 유효한 이미지 ID를 얻기 위한 함수\n",
    "def count_images_by_gender_and_style(file_names, valid_image_ids):\n",
    "    rows = []  # 결과를 저장할 리스트\n",
    "\n",
    "    # 파일명 분석 및 카운트\n",
    "    for filename in file_names:\n",
    "        # 파일 확장자 체크\n",
    "        if not filename.endswith('.json'):\n",
    "            continue\n",
    "\n",
    "        # .json 제거\n",
    "        no_jpg_filename = filename.split('.')[0]\n",
    "        parts = no_jpg_filename.split('_')\n",
    "\n",
    "        # 성별, 스타일, 이미지 ID 추출\n",
    "        gender = '여성' if parts[4] == 'W' else '남성'\n",
    "        style = parts[3]  \n",
    "        image_id = parts[1] \n",
    "\n",
    "        # 유효한 스타일과 이미지 ID일 때만 추가\n",
    "        if style is not None and image_id is not None and image_id in valid_image_ids:\n",
    "            rows.append({'성별': gender, '스타일': style, '이미지 ID': image_id})\n",
    "\n",
    "    # DataFrame 생성\n",
    "    df = pd.DataFrame(rows)\n",
    "\n",
    "    # 중복된 행 제거\n",
    "    df = df.drop_duplicates(subset=['성별', '스타일', '이미지 ID'])\n",
    "\n",
    "    # 성별과 스타일별로 이미지 수 집계\n",
    "    result = df.groupby(['성별', '스타일']).size().reset_index(name='이미지 수')\n",
    "    result = result.sort_values(by='성별')\n",
    "    \n",
    "    return result\n",
    "\n",
    "# 유효한 이미지 ID를 얻기 위한 파일 목록\n",
    "train_files = os.listdir(train_directory)\n",
    "valid_files = os.listdir(valid_directory)\n",
    "train_image_files = os.listdir(train_image_directory)\n",
    "valid_image_files = os.listdir(valid_image_directory)\n",
    "\n",
    "# 이미지 파일에서 유효한 이미지 ID 추출\n",
    "valid_image_ids = set([filename.split('_')[1] for filename in train_image_files + valid_image_files if filename.endswith('.jpg')])\n",
    "\n",
    "# 유효한 데이터만 필터링\n",
    "train_valid_images = count_images_by_gender_and_style(train_files + valid_files, valid_image_ids)\n",
    "\n",
    "# 디렉토리 내의 모든 파일을 순회하며 데이터 추출\n",
    "def process_directory(directory, result_dict, valid_image_ids):\n",
    "    for filename in os.listdir(directory):\n",
    "        if filename.endswith('.json'):\n",
    "            filepath = os.path.join(directory, filename)\n",
    "            with open(filepath, 'r', encoding='utf-8') as file:\n",
    "                data = json.load(file)\n",
    "                R_id = data['user']['R_id']\n",
    "                imgName = data['item']['imgName']\n",
    "                Q5 = data['item']['survey']['Q5']\n",
    "                \n",
    "                # 이미지 ID 추출\n",
    "                image_id = imgName.split('_')[1]\n",
    "                \n",
    "                # 유효한 이미지 ID일 때만 처리\n",
    "                if image_id in valid_image_ids:\n",
    "                    # Q5 값을 선호도 값으로 변환\n",
    "                    preference = \"선호\" if Q5 == 2 else \"비선호\"\n",
    "                    \n",
    "                    result_dict[R_id][preference].append(imgName)\n",
    "                    response_count[R_id] += 1\n",
    "\n",
    "# train과 valid 디렉토리 처리\n",
    "process_directory(train_directory, train_result, valid_image_ids)\n",
    "process_directory(valid_directory, valid_result, valid_image_ids)\n",
    "\n",
    "# 결과를 CSV 파일로 저장\n",
    "with open('mission2_2_result.csv', 'w', newline='', encoding='utf-8-sig') as csvfile:\n",
    "    fieldnames = ['응답자 ID', 'train 선호', 'train 비선호', 'valid 선호', 'valid 비선호']\n",
    "    writer = csv.DictWriter(csvfile, fieldnames=fieldnames)\n",
    "    \n",
    "    writer.writeheader()\n",
    "    for R_id in response_count:\n",
    "        train_preference = ', '.join(train_result[R_id]['선호'])\n",
    "        train_non_preference = ', '.join(train_result[R_id]['비선호'])\n",
    "        valid_preference = ', '.join(valid_result[R_id]['선호'])\n",
    "        valid_non_preference = ', '.join(valid_result[R_id]['비선호'])\n",
    "        \n",
    "        writer.writerow({\n",
    "            '응답자 ID': R_id,\n",
    "            'train 선호': train_preference,\n",
    "            'train 비선호': train_non_preference,\n",
    "            'valid 선호': valid_preference,\n",
    "            'valid 비선호': valid_non_preference\n",
    "        })"
   ]
  },
  {
   "cell_type": "code",
   "execution_count": 15,
   "metadata": {},
   "outputs": [],
   "source": [
    "import pandas as pd\n",
    "\n",
    "# 출력 옵션 설정\n",
    "pd.set_option('display.max_colwidth', None)\n",
    "pd.set_option('display.max_columns', None)\n",
    "\n",
    "# CSV 파일 읽기\n",
    "result = pd.read_csv(\"mission2_2_result.csv\")"
   ]
  },
  {
   "cell_type": "code",
   "execution_count": 16,
   "metadata": {},
   "outputs": [
    {
     "data": {
      "text/plain": [
       "4116"
      ]
     },
     "execution_count": 16,
     "metadata": {},
     "output_type": "execute_result"
    }
   ],
   "source": [
    "len(result)"
   ]
  },
  {
   "cell_type": "code",
   "execution_count": 17,
   "metadata": {},
   "outputs": [],
   "source": [
    "# 상위 100개 행 선택\n",
    "top_100 = result.head(100)\n",
    "\n",
    "# CSV 파일로 저장\n",
    "top_100.to_csv('top_100_mission2_2_result.csv', index=False)"
   ]
  },
  {
   "cell_type": "code",
   "execution_count": 18,
   "metadata": {},
   "outputs": [],
   "source": [
    "import pandas as pd\n",
    "\n",
    "# CSV 파일 읽기\n",
    "top_100_result = pd.read_csv(\"top_100_mission2_2_result.csv\")"
   ]
  },
  {
   "cell_type": "code",
   "execution_count": 19,
   "metadata": {},
   "outputs": [
    {
     "data": {
      "text/plain": [
       "100"
      ]
     },
     "execution_count": 19,
     "metadata": {},
     "output_type": "execute_result"
    }
   ],
   "source": [
    "len(top_100_result)"
   ]
  },
  {
   "cell_type": "code",
   "execution_count": 20,
   "metadata": {},
   "outputs": [
    {
     "data": {
      "text/html": [
       "<div>\n",
       "<style scoped>\n",
       "    .dataframe tbody tr th:only-of-type {\n",
       "        vertical-align: middle;\n",
       "    }\n",
       "\n",
       "    .dataframe tbody tr th {\n",
       "        vertical-align: top;\n",
       "    }\n",
       "\n",
       "    .dataframe thead th {\n",
       "        text-align: right;\n",
       "    }\n",
       "</style>\n",
       "<table border=\"1\" class=\"dataframe\">\n",
       "  <thead>\n",
       "    <tr style=\"text-align: right;\">\n",
       "      <th></th>\n",
       "      <th>응답자 ID</th>\n",
       "      <th>train 선호</th>\n",
       "      <th>train 비선호</th>\n",
       "      <th>valid 선호</th>\n",
       "      <th>valid 비선호</th>\n",
       "    </tr>\n",
       "  </thead>\n",
       "  <tbody>\n",
       "    <tr>\n",
       "      <th>0</th>\n",
       "      <td>52002</td>\n",
       "      <td>W_24111_70_hippie_M.jpg</td>\n",
       "      <td>T_00004_90_hiphop_M.jpg, T_03007_10_sportivecasual_M.jpg, T_03118_19_normcore_M.jpg, W_02699_60_mods_M.jpg, W_23983_60_mods_M.jpg</td>\n",
       "      <td>NaN</td>\n",
       "      <td>NaN</td>\n",
       "    </tr>\n",
       "    <tr>\n",
       "      <th>1</th>\n",
       "      <td>66699</td>\n",
       "      <td>T_00004_90_hiphop_M.jpg, T_01568_50_ivy_M.jpg, T_15877_10_sportivecasual_M.jpg, T_16259_10_sportivecasual_M.jpg, W_00901_60_mods_M.jpg</td>\n",
       "      <td>T_03643_00_metrosexual_M.jpg, T_06009_10_sportivecasual_M.jpg, W_15364_00_metrosexual_M.jpg, W_24031_60_mods_M.jpg</td>\n",
       "      <td>NaN</td>\n",
       "      <td>NaN</td>\n",
       "    </tr>\n",
       "    <tr>\n",
       "      <th>2</th>\n",
       "      <td>66797</td>\n",
       "      <td>T_01259_10_sportivecasual_M.jpg, T_16092_10_sportivecasual_M.jpg, T_16332_10_sportivecasual_M.jpg, W_23958_60_mods_M.jpg, W_24020_60_mods_M.jpg</td>\n",
       "      <td>T_00004_90_hiphop_M.jpg, W_15467_70_hippie_M.jpg, W_24865_60_mods_M.jpg, W_49510_00_metrosexual_M.jpg</td>\n",
       "      <td>T_08486_10_sportivecasual_M.jpg, W_23958_60_mods_M.jpg</td>\n",
       "      <td>NaN</td>\n",
       "    </tr>\n",
       "  </tbody>\n",
       "</table>\n",
       "</div>"
      ],
      "text/plain": [
       "   응답자 ID  \\\n",
       "0   52002   \n",
       "1   66699   \n",
       "2   66797   \n",
       "\n",
       "                                                                                                                                          train 선호  \\\n",
       "0                                                                                                                          W_24111_70_hippie_M.jpg   \n",
       "1           T_00004_90_hiphop_M.jpg, T_01568_50_ivy_M.jpg, T_15877_10_sportivecasual_M.jpg, T_16259_10_sportivecasual_M.jpg, W_00901_60_mods_M.jpg   \n",
       "2  T_01259_10_sportivecasual_M.jpg, T_16092_10_sportivecasual_M.jpg, T_16332_10_sportivecasual_M.jpg, W_23958_60_mods_M.jpg, W_24020_60_mods_M.jpg   \n",
       "\n",
       "                                                                                                                           train 비선호  \\\n",
       "0  T_00004_90_hiphop_M.jpg, T_03007_10_sportivecasual_M.jpg, T_03118_19_normcore_M.jpg, W_02699_60_mods_M.jpg, W_23983_60_mods_M.jpg   \n",
       "1                 T_03643_00_metrosexual_M.jpg, T_06009_10_sportivecasual_M.jpg, W_15364_00_metrosexual_M.jpg, W_24031_60_mods_M.jpg   \n",
       "2                              T_00004_90_hiphop_M.jpg, W_15467_70_hippie_M.jpg, W_24865_60_mods_M.jpg, W_49510_00_metrosexual_M.jpg   \n",
       "\n",
       "                                                 valid 선호 valid 비선호  \n",
       "0                                                     NaN       NaN  \n",
       "1                                                     NaN       NaN  \n",
       "2  T_08486_10_sportivecasual_M.jpg, W_23958_60_mods_M.jpg       NaN  "
      ]
     },
     "execution_count": 20,
     "metadata": {},
     "output_type": "execute_result"
    }
   ],
   "source": [
    "top_100_result.head(3)\n"
   ]
  },
  {
   "cell_type": "markdown",
   "metadata": {},
   "source": [
    "."
   ]
  }
 ],
 "metadata": {
  "kernelspec": {
   "display_name": "Python 3",
   "language": "python",
   "name": "python3"
  },
  "language_info": {
   "codemirror_mode": {
    "name": "ipython",
    "version": 3
   },
   "file_extension": ".py",
   "mimetype": "text/x-python",
   "name": "python",
   "nbconvert_exporter": "python",
   "pygments_lexer": "ipython3",
   "version": "3.7.8"
  }
 },
 "nbformat": 4,
 "nbformat_minor": 2
}
