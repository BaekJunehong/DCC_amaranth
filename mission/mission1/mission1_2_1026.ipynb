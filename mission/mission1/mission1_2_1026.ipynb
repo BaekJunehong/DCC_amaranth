{
  "cells": [
    {
      "cell_type": "markdown",
      "metadata": {},
      "source": [
        "# 2024 데이터 크리에이터 캠프"
      ]
    },
    {
      "cell_type": "markdown",
      "metadata": {},
      "source": [
        "문제: 인공지능은 사람의 마음을 이해할수 있을까?"
      ]
    },
    {
      "cell_type": "markdown",
      "metadata": {},
      "source": [
        "## Mission1. 패션 스타일 이미지 분류"
      ]
    },
    {
      "cell_type": "markdown",
      "metadata": {},
      "source": [
        "### 구글 드라이브 연결"
      ]
    },
    {
      "cell_type": "code",
      "execution_count": 44,
      "metadata": {
        "colab": {
          "base_uri": "https://localhost:8080/"
        },
        "id": "B-HXEBTM8_w5",
        "outputId": "a3fd79fe-3b85-45fc-c278-c4f517b36804"
      },
      "outputs": [],
      "source": [
        "from google.colab import drive\n",
        "drive.mount('/content/drive')"
      ]
    },
    {
      "cell_type": "markdown",
      "metadata": {},
      "source": [
        "### 라이브러리 불러오기"
      ]
    },
    {
      "cell_type": "code",
      "execution_count": 45,
      "metadata": {
        "id": "9orNrymiUL4k"
      },
      "outputs": [],
      "source": [
        "import os\n",
        "import torch\n",
        "from torch import Tensor\n",
        "import torch.nn as nn\n",
        "import torch.optim as optim\n",
        "from torch.utils.data import DataLoader, Dataset\n",
        "from torchvision import transforms\n",
        "from PIL import Image\n",
        "from sklearn.metrics import accuracy_score\n",
        "from typing import Type"
      ]
    },
    {
      "cell_type": "markdown",
      "metadata": {},
      "source": [
        "### Resnet 구현"
      ]
    },
    {
      "cell_type": "code",
      "execution_count": 46,
      "metadata": {
        "id": "47HNcz9LsmMl"
      },
      "outputs": [],
      "source": [
        "class BasicBlock(nn.Module):\n",
        "    def __init__(\n",
        "        self,\n",
        "        in_channels: int,\n",
        "        out_channels: int,\n",
        "        stride: int = 1,\n",
        "        expansion: int = 1,\n",
        "        downsample: nn.Module = None\n",
        "    ) -> None:\n",
        "        super(BasicBlock, self).__init__()\n",
        "        self.expansion = expansion\n",
        "        self.downsample = downsample\n",
        "        self.conv1 = nn.Conv2d(\n",
        "            in_channels,\n",
        "            out_channels,\n",
        "            kernel_size=3,\n",
        "            stride=stride,\n",
        "            padding=1,\n",
        "            bias=False\n",
        "        )\n",
        "        self.bn1 = nn.BatchNorm2d(out_channels)\n",
        "        self.relu = nn.ReLU(inplace=True)\n",
        "        self.conv2 = nn.Conv2d(\n",
        "            out_channels,\n",
        "            out_channels*self.expansion,\n",
        "            kernel_size=3,\n",
        "            padding=1,\n",
        "            bias=False\n",
        "        )\n",
        "        self.bn2 = nn.BatchNorm2d(out_channels*self.expansion)\n",
        "\n",
        "    def forward(self, x: Tensor) -> Tensor:\n",
        "        identity = x\n",
        "\n",
        "        out = self.conv1(x)\n",
        "        out = self.bn1(out)\n",
        "        out = self.relu(out)\n",
        "\n",
        "        out = self.conv2(out)\n",
        "        out = self.bn2(out)\n",
        "\n",
        "        if self.downsample is not None:\n",
        "            identity = self.downsample(x)\n",
        "\n",
        "        out += identity\n",
        "        out = self.relu(out)\n",
        "        return  out"
      ]
    },
    {
      "cell_type": "code",
      "execution_count": 47,
      "metadata": {
        "id": "7kFiXzxVsmKJ"
      },
      "outputs": [],
      "source": [
        "class ResNet(nn.Module):\n",
        "    def __init__(\n",
        "        self,\n",
        "        img_channels: int,\n",
        "        num_layers: int,\n",
        "        block: Type[BasicBlock],\n",
        "        num_classes: int  = 1000\n",
        "    ) -> None:\n",
        "        super(ResNet, self).__init__()\n",
        "        if num_layers == 18: # ResNet18 만을 본 대회에서 사용함으로 18층만 구현\n",
        "            layers = [2, 2, 2, 2]\n",
        "            self.expansion = 1\n",
        "\n",
        "        self.in_channels = 64\n",
        "        self.conv1 = nn.Conv2d(\n",
        "            in_channels=img_channels,\n",
        "            out_channels=self.in_channels,\n",
        "            kernel_size=7,\n",
        "            stride=2,\n",
        "            padding=3,\n",
        "            bias=False\n",
        "        )\n",
        "        self.bn1 = nn.BatchNorm2d(self.in_channels)\n",
        "        self.relu = nn.ReLU(inplace=True)\n",
        "        self.maxpool = nn.MaxPool2d(kernel_size=3, stride=2, padding=1)\n",
        "\n",
        "        self.layer1 = self._make_layer(block, 64, layers[0])\n",
        "        self.layer2 = self._make_layer(block, 128, layers[1], stride=2)\n",
        "        self.layer3 = self._make_layer(block, 256, layers[2], stride=2)\n",
        "        self.layer4 = self._make_layer(block, 512, layers[3], stride=2)\n",
        "\n",
        "        self.avgpool = nn.AdaptiveAvgPool2d((1, 1))\n",
        "        self.fc = nn.Linear(512*self.expansion, num_classes)\n",
        "\n",
        "    def _make_layer(\n",
        "        self,\n",
        "        block: Type[BasicBlock],\n",
        "        out_channels: int,\n",
        "        blocks: int,\n",
        "        stride: int = 1\n",
        "    ) -> nn.Sequential:\n",
        "        downsample = None\n",
        "        if stride != 1:\n",
        "            downsample = nn.Sequential(\n",
        "                nn.Conv2d(\n",
        "                    self.in_channels,\n",
        "                    out_channels*self.expansion,\n",
        "                    kernel_size=1,\n",
        "                    stride=stride,\n",
        "                    bias=False\n",
        "                ),\n",
        "                nn.BatchNorm2d(out_channels * self.expansion),\n",
        "            )\n",
        "        layers = []\n",
        "        layers.append(\n",
        "            block(\n",
        "                self.in_channels, out_channels, stride, self.expansion, downsample\n",
        "            )\n",
        "        )\n",
        "        self.in_channels = out_channels * self.expansion\n",
        "\n",
        "        for i in range(1, blocks):\n",
        "            layers.append(block(\n",
        "                self.in_channels,\n",
        "                out_channels,\n",
        "                expansion=self.expansion\n",
        "            ))\n",
        "        return nn.Sequential(*layers)\n",
        "\n",
        "    def forward(self, x: Tensor) -> Tensor:\n",
        "        x = self.conv1(x)\n",
        "        x = self.bn1(x)\n",
        "        x = self.relu(x)\n",
        "        x = self.maxpool(x)\n",
        "\n",
        "        x = self.layer1(x)\n",
        "        x = self.layer2(x)\n",
        "        x = self.layer3(x)\n",
        "        x = self.layer4(x)\n",
        "        print('Dimensions of the last convolutional feature map: ', x.shape)\n",
        "\n",
        "        x = self.avgpool(x)\n",
        "        x = torch.flatten(x, 1)\n",
        "        x = self.fc(x)\n",
        "\n",
        "        return x"
      ]
    },
    {
      "cell_type": "markdown",
      "metadata": {},
      "source": [
        "### 데이터 전처리"
      ]
    },
    {
      "cell_type": "code",
      "execution_count": 48,
      "metadata": {},
      "outputs": [],
      "source": [
        "# 이미지 파일이 있는 디렉토리 경로\n",
        "train_image_directory = '../dataset/training_image'   # <--- training_image 폴더 경로를 입력\n",
        "valid_image_directory = '../dataset/validation_image' # <--- validation_image 폴더 경로를 입력\n",
        "\n",
        "# CustomDataset 클래스 정의\n",
        "class CustomDataset(Dataset):\n",
        "    def __init__(self, image_directory, transform=None):\n",
        "        self.image_directory = image_directory\n",
        "        self.image_files = [f for f in os.listdir(image_directory) if f.endswith('.jpg')]\n",
        "        self.transform = transform\n",
        "\n",
        "    def __len__(self):\n",
        "        return len(self.image_files)\n",
        "\n",
        "    def __getitem__(self, idx):\n",
        "        file_name = self.image_files[idx]\n",
        "        image_path = os.path.join(self.image_directory, file_name)\n",
        "        image = Image.open(image_path).convert('RGB')\n",
        "        \n",
        "        # 이미지 파일명에서 스타일과 성별 정보 추출\n",
        "        parts = file_name.split('_')\n",
        "        style_gender = parts[-2] + '_' + parts[-1].split('.')[0]  # 스타일과 성별 정보 추출\n",
        "        \n",
        "        # 스타일과 성별 정보를 레이블로 변환\n",
        "        label = style_gender\n",
        "        label_idx = label_to_index[label]\n",
        "        \n",
        "        if self.transform:\n",
        "            image = self.transform(image)\n",
        "        return image, label_idx\n",
        "\n",
        "# 레이블을 숫자로 매핑하기 위한 딕셔너리 생성\n",
        "label_set = set()\n",
        "for file_name in os.listdir(train_image_directory) + os.listdir(valid_image_directory):\n",
        "    parts = file_name.split('_')\n",
        "    style_gender = parts[-2] + '_' + parts[-1].split('.')[0]\n",
        "    label_set.add(style_gender)\n",
        "\n",
        "label_list = sorted(list(label_set))\n",
        "label_to_index = {label: idx for idx, label in enumerate(label_list)}\n",
        "index_to_label = {idx: label for label, idx in label_to_index.items()}"
      ]
    },
    {
      "cell_type": "code",
      "execution_count": 49,
      "metadata": {},
      "outputs": [
        {
          "data": {
            "text/plain": [
              "{0: 'athleisure_W',\n",
              " 1: 'bodyconscious_W',\n",
              " 2: 'bold_M',\n",
              " 3: 'cityglam_W',\n",
              " 4: 'classic_W',\n",
              " 5: 'disco_W',\n",
              " 6: 'ecology_W',\n",
              " 7: 'feminine_W',\n",
              " 8: 'genderless_W',\n",
              " 9: 'grunge_W',\n",
              " 10: 'hiphop_M',\n",
              " 11: 'hiphop_W',\n",
              " 12: 'hippie_M',\n",
              " 13: 'hippie_W',\n",
              " 14: 'ivy_M',\n",
              " 15: 'kitsch_W',\n",
              " 16: 'lingerie_W',\n",
              " 17: 'lounge_W',\n",
              " 18: 'metrosexual_M',\n",
              " 19: 'military_W',\n",
              " 20: 'minimal_W',\n",
              " 21: 'mods_M',\n",
              " 22: 'normcore_M',\n",
              " 23: 'normcore_W',\n",
              " 24: 'oriental_W',\n",
              " 25: 'popart_W',\n",
              " 26: 'powersuit_W',\n",
              " 27: 'punk_W',\n",
              " 28: 'space_W',\n",
              " 29: 'sportivecasual_M',\n",
              " 30: 'sportivecasual_W'}"
            ]
          },
          "execution_count": 49,
          "metadata": {},
          "output_type": "execute_result"
        }
      ],
      "source": [
        "index_to_label"
      ]
    },
    {
      "cell_type": "markdown",
      "metadata": {},
      "source": [
        "클래스 총 31개의 범주"
      ]
    },
    {
      "cell_type": "code",
      "execution_count": 50,
      "metadata": {},
      "outputs": [
        {
          "data": {
            "text/plain": [
              "31"
            ]
          },
          "execution_count": 50,
          "metadata": {},
          "output_type": "execute_result"
        }
      ],
      "source": [
        "len(index_to_label) "
      ]
    },
    {
      "cell_type": "markdown",
      "metadata": {},
      "source": [
        "이미지 데이터 정규화를 위한 평균과 표준편차 계산 수행"
      ]
    },
    {
      "cell_type": "code",
      "execution_count": null,
      "metadata": {},
      "outputs": [],
      "source": [
        "# 데이터셋의 평균과 표준편차 계산 함수\n",
        "def calculate_mean_std(loader):\n",
        "    mean = 0.0\n",
        "    std = 0.0\n",
        "    total_images_count = 0\n",
        "    for images, _ in loader:\n",
        "        batch_samples = images.size(0)  # 배치 크기 (이때 마지막 배치는 더 작을 수 있음)\n",
        "        images = images.view(batch_samples, images.size(1), -1)\n",
        "        mean += images.mean(2).sum(0)\n",
        "        std += images.std(2).sum(0)\n",
        "        total_images_count += batch_samples\n",
        "\n",
        "    mean /= total_images_count\n",
        "    std /= total_images_count\n",
        "    return mean, std\n",
        "\n",
        "# 임시로 ToTensor 변환만 적용하여 데이터 로더 생성\n",
        "temp_transform = transforms.Compose([\n",
        "    transforms.Resize((224, 224)),\n",
        "    transforms.ToTensor(),\n",
        "])\n",
        "\n",
        "temp_train_dataset = CustomDataset(train_image_directory, transform=temp_transform)\n",
        "temp_train_loader = DataLoader(temp_train_dataset, batch_size=32, shuffle=True)\n",
        "\n",
        "# 평균과 표준편차 계산\n",
        "mean, std = calculate_mean_std(temp_train_loader)\n",
        "print(f\"Calculated mean: {mean}\")\n",
        "print(f\"Calculated std: {std}\")"
      ]
    },
    {
      "cell_type": "markdown",
      "metadata": {},
      "source": [
        "데이터 전처리 및 로드"
      ]
    },
    {
      "cell_type": "code",
      "execution_count": null,
      "metadata": {},
      "outputs": [],
      "source": [
        "transform = transforms.Compose([\n",
        "    transforms.Resize((224, 224)),\n",
        "    transforms.ToTensor(), # 이미지의 픽셀 값이 [0, 255] 범위에서 [0, 1] 범위로 정규화\n",
        "    transforms.Normalize(  # 텐서의 각 채널을 주어진 평균과 표준편차를 사용하여 정규화\n",
        "        mean=mean.tolist(), \n",
        "        std=std.tolist()\n",
        "        ), \n",
        "])\n",
        "\n",
        "train_dataset = CustomDataset(train_image_directory, transform=transform)\n",
        "val_dataset = CustomDataset(valid_image_directory, transform=transform)\n",
        "\n",
        "train_loader = DataLoader(train_dataset, batch_size=32, shuffle=True)\n",
        "val_loader = DataLoader(val_dataset, batch_size=32, shuffle=False)"
      ]
    },
    {
      "cell_type": "markdown",
      "metadata": {},
      "source": [
        "### 모델 구축"
      ]
    },
    {
      "cell_type": "markdown",
      "metadata": {},
      "source": [
        "모델 학습"
      ]
    },
    {
      "cell_type": "code",
      "execution_count": null,
      "metadata": {
        "id": "gZTvnDLxsmFd"
      },
      "outputs": [],
      "source": [
        "# ResNet-18 모델 생성 함수\n",
        "def resnet18(img_channels: int, num_classes: int) -> ResNet:\n",
        "    return ResNet(img_channels, 18, BasicBlock, num_classes) # 18은 ResNet-18을 지정\n",
        "\n",
        "# 모델 인스턴스 생성\n",
        "num_classes = len(label_list)  # 레이블의 총 개수\n",
        "model = resnet18(img_channels=3, num_classes=num_classes) # RGB 이미지: 3개의 채널\n",
        "\n",
        "# 손실 함수 및 옵티마이저 정의\n",
        "criterion = nn.CrossEntropyLoss()\n",
        "optimizer = optim.Adam(model.parameters(), lr=0.001)\n",
        "\n",
        "# 모델을 GPU로 이동\n",
        "device = torch.device(\"cuda\" if torch.cuda.is_available() else \"cpu\")\n",
        "model.to(device)\n",
        "\n",
        "# 모델 학습\n",
        "num_epochs = 10  # 학습 에포크 수를 10으로 설정\n",
        "for epoch in range(num_epochs):\n",
        "    model.train()\n",
        "    running_loss = 0.0\n",
        "    for images, labels in train_loader:\n",
        "        optimizer.zero_grad()\n",
        "        outputs = model(images)\n",
        "        loss = criterion(outputs, labels)\n",
        "        loss.backward()\n",
        "        optimizer.step()\n",
        "        running_loss += loss.item()\n",
        "    print(f'Epoch [{epoch+1}/{num_epochs}], Loss: {running_loss/len(train_loader)}')"
      ]
    },
    {
      "cell_type": "markdown",
      "metadata": {},
      "source": [
        "모델 검증"
      ]
    },
    {
      "cell_type": "code",
      "execution_count": null,
      "metadata": {},
      "outputs": [],
      "source": [
        "model.eval()\n",
        "all_preds = []\n",
        "all_labels = []\n",
        "with torch.no_grad():\n",
        "    for images, labels in val_loader:\n",
        "        outputs = model(images)\n",
        "        _, preds = torch.max(outputs, 1)\n",
        "        all_preds.extend(preds.cpu().numpy())\n",
        "        all_labels.extend(labels.cpu().numpy())\n",
        "\n",
        "# 정확도 계산\n",
        "accuracy = accuracy_score(all_labels, all_preds)\n",
        "print(f'Validation Accuracy: {accuracy * 100:.2f}%')"
      ]
    },
    {
      "cell_type": "markdown",
      "metadata": {},
      "source": [
        "### 예측 수행"
      ]
    },
    {
      "cell_type": "markdown",
      "metadata": {},
      "source": [
        "실제 이미지가 입력으로 들어온다고 가정하에 예측과정 수행"
      ]
    },
    {
      "cell_type": "code",
      "execution_count": null,
      "metadata": {},
      "outputs": [],
      "source": [
        "# 예측 결과를 {스타일}_{성별} 형식으로 변환하여 출력\n",
        "def predict_image(image_path, model, transform):\n",
        "    image = Image.open(image_path).convert('RGB')\n",
        "    image = transform(image).unsqueeze(0)  # 배치 차원 추가\n",
        "    model.eval()\n",
        "    with torch.no_grad():\n",
        "        output = model(image)\n",
        "        _, pred = torch.max(output, 1)\n",
        "    return index_to_label[pred.item()]\n",
        "\n",
        "# 이미지 예측\n",
        "example_image_path = '../dataset/example.jpg'  # <--- 예시 이미지 경로를 입력\n",
        "predicted_label = predict_image(example_image_path, model, transform)\n",
        "print(f'Predicted: {predicted_label}')"
      ]
    },
    {
      "cell_type": "markdown",
      "metadata": {},
      "source": [
        "."
      ]
    }
  ],
  "metadata": {
    "colab": {
      "provenance": []
    },
    "kernelspec": {
      "display_name": "Python 3",
      "name": "python3"
    },
    "language_info": {
      "codemirror_mode": {
        "name": "ipython",
        "version": 3
      },
      "file_extension": ".py",
      "mimetype": "text/x-python",
      "name": "python",
      "nbconvert_exporter": "python",
      "pygments_lexer": "ipython3",
      "version": "3.7.8"
    }
  },
  "nbformat": 4,
  "nbformat_minor": 0
}
